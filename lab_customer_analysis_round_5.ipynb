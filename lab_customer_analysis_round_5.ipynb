{
  "nbformat": 4,
  "nbformat_minor": 0,
  "metadata": {
    "colab": {
      "provenance": [],
      "mount_file_id": "1iTrqS4u6Oq2K7s3tKcxR0XwqnicXjYKS",
      "authorship_tag": "ABX9TyO+cgZ+zthXVYiLxmacnDCj",
      "include_colab_link": true
    },
    "kernelspec": {
      "name": "python3",
      "display_name": "Python 3"
    },
    "language_info": {
      "name": "python"
    }
  },
  "cells": [
    {
      "cell_type": "markdown",
      "metadata": {
        "id": "view-in-github",
        "colab_type": "text"
      },
      "source": [
        "<a href=\"https://colab.research.google.com/github/sabinamunoz/lab-customer-analysis-round-5/blob/master/lab_customer_analysis_round_5.ipynb\" target=\"_parent\"><img src=\"https://colab.research.google.com/assets/colab-badge.svg\" alt=\"Open In Colab\"/></a>"
      ]
    },
    {
      "cell_type": "markdown",
      "source": [
        "###**Processing Data**\n",
        "\n",
        "1. Train-test split.: X-y split.\n",
        "\n",
        "2. Feature scaling - Normalize (numerical).\n",
        "\n"
      ],
      "metadata": {
        "id": "qlSdIfnp7rzI"
      }
    },
    {
      "cell_type": "code",
      "execution_count": 1,
      "metadata": {
        "id": "W46yJ-hRUClw"
      },
      "outputs": [],
      "source": [
        "import numpy as np\n",
        "import pandas as pd\n",
        "import seaborn as sns\n",
        "from scipy import stats\n",
        "import matplotlib.pyplot as plt\n",
        "from sklearn.linear_model import LinearRegression\n",
        "from sklearn.model_selection import train_test_split\n",
        "from sklearn.preprocessing import OneHotEncoder, Normalizer, StandardScaler\n",
        "from sklearn.metrics import mean_squared_error, r2_score, mean_absolute_error\n",
        "import statsmodels.api as sm\n",
        "from statsmodels.formula.api import ols\n"
      ]
    },
    {
      "cell_type": "code",
      "source": [
        "from google.colab import drive"
      ],
      "metadata": {
        "id": "IuryeTj5Ubxm"
      },
      "execution_count": 2,
      "outputs": []
    },
    {
      "cell_type": "code",
      "source": [
        "drive.mount('/content/drive')"
      ],
      "metadata": {
        "colab": {
          "base_uri": "https://localhost:8080/"
        },
        "id": "scjM1ZTOUeea",
        "outputId": "101a937f-1343-472f-cc6b-e14a21aefb33"
      },
      "execution_count": 3,
      "outputs": [
        {
          "output_type": "stream",
          "name": "stdout",
          "text": [
            "Mounted at /content/drive\n"
          ]
        }
      ]
    },
    {
      "cell_type": "code",
      "source": [
        "data = pd.read_csv('/content/drive/MyDrive/IronHack Bootcamp/UNIT1/LABS/LAB7/marketing_customer_analysis.csv', sep=',').reset_index(drop=True)"
      ],
      "metadata": {
        "id": "P4IVIb7NVCIN"
      },
      "execution_count": 4,
      "outputs": []
    },
    {
      "cell_type": "code",
      "source": [
        "data.columns = [column.lower().replace(' ', '_') for column in data.columns]"
      ],
      "metadata": {
        "id": "3zWZuE0Pzmzu"
      },
      "execution_count": 10,
      "outputs": []
    },
    {
      "cell_type": "markdown",
      "source": [
        "**1. Train-test split.: X-y split.**"
      ],
      "metadata": {
        "id": "Jd_7OZIY6d5g"
      }
    },
    {
      "cell_type": "code",
      "source": [
        "x = data.drop([\"customer\", \"total_claim_amount\", 'effective_to_date'], axis=1)\n",
        "y = data[\"total_claim_amount\"]"
      ],
      "metadata": {
        "id": "nwtBL43X6nHo"
      },
      "execution_count": 11,
      "outputs": []
    },
    {
      "cell_type": "markdown",
      "source": [
        "\n",
        "**2. Feature scaling - Normalize (numerical).**\n"
      ],
      "metadata": {
        "id": "m0gvJmN87DOR"
      }
    },
    {
      "cell_type": "code",
      "source": [
        "x_num = x.select_dtypes(np.number)\n",
        "\n",
        "scaler = StandardScaler()\n",
        "scaler.fit(x_num)\n",
        "x_num_scaled = scaler.transform(x_num)\n",
        "\n",
        "x_num_scaled = pd.DataFrame(x_num_scaled, columns = x_num.columns)"
      ],
      "metadata": {
        "id": "A2szOZwG7KHi"
      },
      "execution_count": 12,
      "outputs": []
    }
  ]
}